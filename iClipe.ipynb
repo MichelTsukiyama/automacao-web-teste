{
 "cells": [
  {
   "cell_type": "code",
   "execution_count": 1,
   "source": [
    "from selenium import webdriver\r\n",
    "from selenium.webdriver.common.keys import Keys\r\n",
    "import pandas as pd\r\n",
    "import time\r\n",
    "\r\n",
    "lista_alunos = pd.read_excel(\"alunos.xlsx\")\r\n",
    "lista_alunos[\"RA\"] =  lista_alunos[\"RA\"].astype(str) #transformar a coluna RA em string\r\n",
    "print(lista_alunos.info())"
   ],
   "outputs": [
    {
     "output_type": "stream",
     "name": "stdout",
     "text": [
      "<class 'pandas.core.frame.DataFrame'>\n",
      "RangeIndex: 26 entries, 0 to 25\n",
      "Data columns (total 5 columns):\n",
      " #   Column       Non-Null Count  Dtype  \n",
      "---  ------       --------------  -----  \n",
      " 0   TURMA        26 non-null     object \n",
      " 1   ALUNO        26 non-null     object \n",
      " 2   LOGIN        26 non-null     object \n",
      " 3   RA           26 non-null     object \n",
      " 4   VERIFICAÇÃO  0 non-null      float64\n",
      "dtypes: float64(1), object(4)\n",
      "memory usage: 1.1+ KB\n",
      "None\n"
     ]
    }
   ],
   "metadata": {}
  },
  {
   "cell_type": "code",
   "execution_count": 2,
   "source": [
    "navegador = webdriver.Chrome()\r\n",
    "navegador.get(\"https://omnium.agilixbuzz.com/\")\r\n",
    "time.sleep(8)\r\n",
    "\r\n",
    "for linha in range (0, 203): #preciso aprender como identificar a ultima linha da tabela\r\n",
    "    try:\r\n",
    "        navegador.find_element_by_xpath('/html/body/app-root/app-before-login/app-login/mat-toolbar/form/div/mat-form-field[1]/div/div[1]/div/input').send_keys(lista_alunos[\"LOGIN\"][linha]) #login\r\n",
    "        navegador.find_element_by_xpath('/html/body/app-root/app-before-login/app-login/mat-toolbar/form/div/mat-form-field[2]/div/div[1]/div/input').send_keys(lista_alunos[\"RA\"][linha]) #senha\r\n",
    "        navegador.find_element_by_xpath('/html/body/app-root/app-before-login/app-login/mat-toolbar/form/div/mat-form-field[1]/div/div[1]/div/input').send_keys(Keys.ENTER)\r\n",
    "        time.sleep(4)\r\n",
    "        navegador.find_element_by_xpath('/html/body/app-root/app-after-login/div/mat-sidenav-container/mat-sidenav-content/mat-toolbar/div[2]/button[2]').click() #menu\r\n",
    "        lista_alunos.loc[linha, \"VERIFICAÇÃO\"] = \"Verificado\"  \r\n",
    "        time.sleep(4)\r\n",
    "    except:\r\n",
    "        lista_alunos.loc[linha, \"VERIFICAÇÃO\"] = \"Falha na verificação\"\r\n",
    "        pass\r\n",
    "    try:\r\n",
    "        navegador.find_element_by_xpath('/html/body/div[2]/div[2]/div/div/div/button[7]').click()#sair\r\n",
    "    except:\r\n",
    "        pass\r\n",
    "    try:\r\n",
    "        navegador.find_element_by_xpath('/html/body/div[3]/div[2]/div/div/div/button[7]').click()#sair, não entendi, algumas vezes o sair está em div's diferentes\r\n",
    "    except:\r\n",
    "        pass\r\n",
    "    try:\r\n",
    "        navegador.find_element_by_xpath('/html/body/div[4]/div[2]/div/div/div/button[7]').click()#sair   \r\n",
    "    except:\r\n",
    "        navegador.refresh()\r\n",
    "        time.sleep(4)\r\n",
    "        pass \r\n",
    "display(lista_alunos)"
   ],
   "outputs": [],
   "metadata": {}
  },
  {
   "cell_type": "code",
   "execution_count": null,
   "source": [
    "navegador.quit()\r\n",
    "lista_alunos.to_excel(\"alunos verificados.xlsx\", index = False)"
   ],
   "outputs": [],
   "metadata": {}
  }
 ],
 "metadata": {
  "orig_nbformat": 4,
  "language_info": {
   "name": "python",
   "version": "3.9.6",
   "mimetype": "text/x-python",
   "codemirror_mode": {
    "name": "ipython",
    "version": 3
   },
   "pygments_lexer": "ipython3",
   "nbconvert_exporter": "python",
   "file_extension": ".py"
  },
  "kernelspec": {
   "name": "python3",
   "display_name": "Python 3.9.6 64-bit"
  },
  "interpreter": {
   "hash": "e97b97265d894fdb1af2d60163001c93b852db2718bf5a4155f01745d1ff44ce"
  }
 },
 "nbformat": 4,
 "nbformat_minor": 2
}