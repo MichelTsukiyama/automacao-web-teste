{
 "cells": [
  {
   "cell_type": "code",
   "execution_count": 11,
   "source": [
    "#selenium e webdriver automatizam ações no navegador\r\n",
    "#pandas permite trabalhar com planilhas no Python\r\n",
    "\r\n",
    "from selenium import webdriver\r\n",
    "from selenium.webdriver.common.keys import Keys #permite digitação no navegador\r\n",
    "from selenium.webdriver.common.by import By \r\n",
    "from selenium.webdriver.support.ui import WebDriverWait #faz o selenium aguardar até determinada condição ocorrer\r\n",
    "from selenium.webdriver.support import expected_conditions as EC #verifica se a condição esperada é válida\r\n",
    "import pandas as pd"
   ],
   "outputs": [],
   "metadata": {}
  },
  {
   "cell_type": "code",
   "execution_count": null,
   "source": [
    "lista_alunos = pd.read_excel(\"alunos.xlsx\") #cria variável que recebe a planilha do excel\r\n",
    "lista_alunos[\"RA\"] = lista_alunos[\"RA\"].astype(str) #converte a coluna RA em string\r\n",
    "print(lista_alunos.info()) #mostra informações gerais da planilha"
   ],
   "outputs": [],
   "metadata": {}
  },
  {
   "cell_type": "code",
   "execution_count": null,
   "source": [
    "navegador = webdriver.Chrome() #inicia o navegador\r\n",
    "navegador.get(\"https://omnium.agilixbuzz.com/\") #acessa a página\r\n",
    "\r\n",
    "try:\r\n",
    "    element = WebDriverWait(navegador, 10).until(EC.presence_of_element_located((By.ID, \"mat-input-0\"))) #aguarda até 10s, para localizar o elemento login\r\n",
    "except:\r\n",
    "    print(\"Falha ao localizar elemento\")\r\n",
    "    pass    \r\n",
    "\r\n",
    "for linha in range(0, 26):\r\n",
    "    try:\r\n",
    "        navegador.find_element_by_xpath('/html/body/app-root/app-before-login/app-login/mat-toolbar/form/div/mat-form-field[1]/div/div[1]/div/input').clear() #apaga os dados na caixa input login, evita concatenação (caso tenha algo escrito na caixa, as informações se juntam e o resultado será falha no login)\r\n",
    "        navegador.find_element_by_xpath('/html/body/app-root/app-before-login/app-login/mat-toolbar/form/div/mat-form-field[2]/div/div[1]/div/input').clear() #apaga os dados na caixa input senha, evita concatenação\r\n",
    "        \r\n",
    "        navegador.find_element_by_xpath('/html/body/app-root/app-before-login/app-login/mat-toolbar/form/div/mat-form-field[1]/div/div[1]/div/input').send_keys(lista_alunos[\"LOGIN\"][linha]) #seleciona login e insere as credenciais\r\n",
    "        navegador.find_element_by_xpath('/html/body/app-root/app-before-login/app-login/mat-toolbar/form/div/mat-form-field[2]/div/div[1]/div/input').send_keys(lista_alunos[\"RA\"][linha]) #seleciona senha e insere as credenciais\r\n",
    "        navegador.find_element_by_xpath('/html/body/app-root/app-before-login/app-login/mat-toolbar/form/div/mat-form-field[1]/div/div[1]/div/input').send_keys(Keys.ENTER) #aperta a tecla Enter\r\n",
    "        \r\n",
    "        try:\r\n",
    "            element = WebDriverWait(navegador, 3).until(EC.presence_of_element_located((By.XPATH, '/html/body/app-root/app-after-login/div/mat-sidenav-container/mat-sidenav-content/mat-toolbar/div[2]/button[2]'))) #aguarda até 10s, para localizar o elemento menu\r\n",
    "        except:\r\n",
    "            pass\r\n",
    "      \r\n",
    "        navegador.find_element_by_xpath('/html/body/app-root/app-after-login/div/mat-sidenav-container/mat-sidenav-content/mat-toolbar/div[2]/button[2]').click() #clica no menu\r\n",
    "        \r\n",
    "        lista_alunos.loc[linha, \"VERIFICAÇÃO\"] = \"Verificado\" #registra na planilha que foi verificado\r\n",
    "\r\n",
    "    except:\r\n",
    "        lista_alunos.loc[linha, \"VERIFICAÇÃO\"] = \"Falha na verificação\"#registra na planilha que houve falha\r\n",
    "        navegador.find_element_by_tag_name('body').send_keys(Keys.ESCAPE) #aperta ESC para sair da mensagem de login incorreto       \r\n",
    "        pass\r\n",
    "           \r\n",
    "    try:\r\n",
    "        for div in range (1,5): #esse laço serve para encontrar o valor correto da <div> do botão sair. Esse botão fica alternando em locais diferentes\r\n",
    "            try:\r\n",
    "                div = str(div)\r\n",
    "                navegador.find_element_by_xpath('/html/body/div['+ div +']/div[2]/div/div/div/button[7]').click()#sair \r\n",
    "            except:\r\n",
    "                pass    \r\n",
    "    except:\r\n",
    "        pass\r\n",
    "\r\n",
    "display(lista_alunos) #mostra a lista com a nova coluna \"Verificação\""
   ],
   "outputs": [],
   "metadata": {}
  },
  {
   "cell_type": "code",
   "execution_count": 14,
   "source": [
    "navegador.quit() #encerra o navegador\r\n",
    "lista_alunos.to_excel(\"alunos verificados.xlsx\", index = False) #salva as informações em uma nova planilha"
   ],
   "outputs": [],
   "metadata": {}
  }
 ],
 "metadata": {
  "orig_nbformat": 4,
  "language_info": {
   "name": "python",
   "version": "3.9.6",
   "mimetype": "text/x-python",
   "codemirror_mode": {
    "name": "ipython",
    "version": 3
   },
   "pygments_lexer": "ipython3",
   "nbconvert_exporter": "python",
   "file_extension": ".py"
  },
  "kernelspec": {
   "name": "python3",
   "display_name": "Python 3.9.6 64-bit"
  },
  "interpreter": {
   "hash": "e97b97265d894fdb1af2d60163001c93b852db2718bf5a4155f01745d1ff44ce"
  }
 },
 "nbformat": 4,
 "nbformat_minor": 2
}