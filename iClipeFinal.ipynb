{
 "cells": [
  {
   "cell_type": "code",
   "execution_count": 17,
   "source": [
    "#selenium e webdriver automatizam ações no navegador\r\n",
    "#pandas permite trabalhar com planilhas no Python\r\n",
    "\r\n",
    "from selenium import webdriver\r\n",
    "from selenium.webdriver.common.keys import Keys #permite digitação no navegador\r\n",
    "from selenium.webdriver.common.by import By\r\n",
    "from selenium.webdriver.support.ui import WebDriverWait\r\n",
    "from selenium.webdriver.support import expected_conditions as EC\r\n",
    "import pandas as pd"
   ],
   "outputs": [],
   "metadata": {}
  },
  {
   "cell_type": "code",
   "execution_count": 18,
   "source": [
    "lista_alunos = pd.read_excel(\"alunos.xlsx\") #cria variável que recebe a planilha do excel\r\n",
    "lista_alunos[\"RA\"] = lista_alunos[\"RA\"].astype(str) #converte a coluna RA em string\r\n",
    "print(lista_alunos.info()) #mostra informações gerais da planilha"
   ],
   "outputs": [
    {
     "output_type": "stream",
     "name": "stdout",
     "text": [
      "<class 'pandas.core.frame.DataFrame'>\n",
      "RangeIndex: 26 entries, 0 to 25\n",
      "Data columns (total 5 columns):\n",
      " #   Column       Non-Null Count  Dtype  \n",
      "---  ------       --------------  -----  \n",
      " 0   TURMA        26 non-null     object \n",
      " 1   ALUNO        26 non-null     object \n",
      " 2   LOGIN        26 non-null     object \n",
      " 3   RA           26 non-null     object \n",
      " 4   VERIFICAÇÃO  0 non-null      float64\n",
      "dtypes: float64(1), object(4)\n",
      "memory usage: 1.1+ KB\n",
      "None\n"
     ]
    }
   ],
   "metadata": {}
  },
  {
   "cell_type": "code",
   "execution_count": 19,
   "source": [
    "navegador = webdriver.Chrome() #inicia o navegador\r\n",
    "navegador.get(\"https://omnium.agilixbuzz.com/\") #acessa a página\r\n",
    "\r\n",
    "try:\r\n",
    "    element = WebDriverWait(navegador, 10).until(EC.presence_of_element_located((By.ID, \"mat-input-0\"))) #aguarda até 10s, para localizar o elemento login\r\n",
    "except:\r\n",
    "    print(\"Falha ao localizar elemento\")\r\n",
    "    pass    \r\n",
    "\r\n",
    "for linha in range(0, 26):\r\n",
    "    try:\r\n",
    "        navegador.find_element_by_xpath('/html/body/app-root/app-before-login/app-login/mat-toolbar/form/div/mat-form-field[1]/div/div[1]/div/input').clear() #apaga os dados, evita concatenação\r\n",
    "        navegador.find_element_by_xpath('/html/body/app-root/app-before-login/app-login/mat-toolbar/form/div/mat-form-field[2]/div/div[1]/div/input').clear() #apaga os dados, evita concatenação\r\n",
    "        \r\n",
    "        navegador.find_element_by_xpath('/html/body/app-root/app-before-login/app-login/mat-toolbar/form/div/mat-form-field[1]/div/div[1]/div/input').send_keys(lista_alunos[\"LOGIN\"][linha]) #seleciona login e insere as credenciais\r\n",
    "        navegador.find_element_by_xpath('/html/body/app-root/app-before-login/app-login/mat-toolbar/form/div/mat-form-field[2]/div/div[1]/div/input').send_keys(lista_alunos[\"RA\"][linha]) #seleciona senha e insere as credenciais\r\n",
    "        navegador.find_element_by_xpath('/html/body/app-root/app-before-login/app-login/mat-toolbar/form/div/mat-form-field[1]/div/div[1]/div/input').send_keys(Keys.ENTER) #aperta a tecla Enter\r\n",
    "\r\n",
    "        element = WebDriverWait(navegador, 10).until(EC.presence_of_element_located((By.CLASS_NAME, \"mat-focus-indicator mat-menu-trigger user-menu-button mat-button mat-button-base\"))) #aguarda até 10s, para localizar o elemento menu\r\n",
    "\r\n",
    "        navegador.find_element_by_xpath('/html/body/app-root/app-after-login/div/mat-sidenav-container/mat-sidenav-content/mat-toolbar/div[2]/button[2]').click() #clica no menu\r\n",
    "        lista_alunos.loc[linha, \"VERIFICAÇÃO\"] = \"Verificado\" #registra na planilha que foi verificado\r\n",
    "\r\n",
    "    except:\r\n",
    "        lista_alunos.loc[linha, \"VERIFICAÇÃO\"] = \"Falha na verificação\"#registra na planilha que houve falha\r\n",
    "        pass\r\n",
    "\r\n",
    "    try:\r\n",
    "        element = WebDriverWait(navegador, 10).until(EC.presence_of_element_located((By.CLASS_NAME, \"mat-focus-indicator mat-menu-item ng-tns-c156-5e\"))) #aguarda até 10s até para localizar o elemento sair\r\n",
    "        navegador.find_element_by_class_name('mat-focus-indicator mat-menu-item ng-tns-c156-5').click #sair\r\n",
    "    except:\r\n",
    "        pass\r\n",
    "\r\n",
    "display(lista_alunos)"
   ],
   "outputs": [],
   "metadata": {}
  },
  {
   "cell_type": "code",
   "execution_count": null,
   "source": [
    "navegador.quit() #encerra o navegador\r\n",
    "lista_alunos.to_excel(\"alunos verificados.xlsx\", index = False) #salva as informações em uma nova planilha"
   ],
   "outputs": [],
   "metadata": {}
  }
 ],
 "metadata": {
  "orig_nbformat": 4,
  "language_info": {
   "name": "python",
   "version": "3.9.6",
   "mimetype": "text/x-python",
   "codemirror_mode": {
    "name": "ipython",
    "version": 3
   },
   "pygments_lexer": "ipython3",
   "nbconvert_exporter": "python",
   "file_extension": ".py"
  },
  "kernelspec": {
   "name": "python3",
   "display_name": "Python 3.9.6 64-bit"
  },
  "interpreter": {
   "hash": "e97b97265d894fdb1af2d60163001c93b852db2718bf5a4155f01745d1ff44ce"
  }
 },
 "nbformat": 4,
 "nbformat_minor": 2
}